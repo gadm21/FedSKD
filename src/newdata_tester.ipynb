{
 "cells": [
  {
   "cell_type": "code",
   "execution_count": 1,
   "metadata": {},
   "outputs": [
    {
     "name": "stderr",
     "output_type": "stream",
     "text": [
      "/Users/gadmohamed/miniforge3/envs/fl/lib/python3.9/site-packages/scipy/__init__.py:146: UserWarning: A NumPy version >=1.16.5 and <1.23.0 is required for this version of SciPy (detected version 1.25.2\n",
      "  warnings.warn(f\"A NumPy version >={np_minversion} and <{np_maxversion}\"\n"
     ]
    }
   ],
   "source": [
    "import os\n",
    "from os.path import join\n",
    "import errno\n",
    "import argparse\n",
    "import sys\n",
    "import pickle\n",
    "import json \n",
    "\n",
    "import numpy as np\n",
    "from tensorflow.keras.models import load_model\n",
    "import tensorflow as tf\n",
    "\n",
    "from data_utils import load_MNIST_data, load_FEMNIST_data, load_EMNIST_data, generate_bal_private_data\n",
    "from data_utils import generate_partial_data, load_ready_data\n",
    "from FedMD import FedMD, FedAvg\n",
    "from Neural_Networks import train_models, cnn_2layer_fc_model, cnn_3layer_fc_model\n",
    "from utility import * \n",
    "\n",
    "import pandas as pd            # For data manipulation\n",
    "import seaborn as sns          # For plotting heatmap\n",
    "import matplotlib.pyplot as plt  # For visualization and saving the plot\n",
    "import logging"
   ]
  },
  {
   "cell_type": "markdown",
   "metadata": {},
   "source": [
    "## Load config file"
   ]
  },
  {
   "cell_type": "code",
   "execution_count": 2,
   "metadata": {},
   "outputs": [
    {
     "name": "stdout",
     "output_type": "stream",
     "text": [
      "private dataset: CIFAR10\n",
      "public dataset: CIFAR100\n"
     ]
    }
   ],
   "source": [
    "private_dataset_name = 'CIFAR10' # 'CIFAR10', 'CIFAR100', 'FEMNIST', 'MNIST'\n",
    "\n",
    "\n",
    "\n",
    "if private_dataset_name in [\"CIFAR10\", \"CIFAR100\"]:\n",
    "    public_dataset_name = 'CIFAR10' if private_dataset_name == 'CIFAR100' else 'CIFAR100'\n",
    "else : \n",
    "    public_dataset_name = 'MNIST' if private_dataset_name == 'FEMNIST' else 'FEMNIST'\n",
    "\n",
    "print(\"private dataset: {0}\".format(private_dataset_name))\n",
    "print(\"public dataset: {0}\".format(public_dataset_name))\n",
    "\n",
    "CANDIDATE_MODELS = {\"2_layer_CNN\": cnn_2layer_fc_model, \n",
    "                    \"3_layer_CNN\": cnn_3layer_fc_model} \n",
    "\n",
    "\n",
    "if private_dataset_name in [\"CIFAR10\", \"CIFAR100\"]:\n",
    "    conf_file = os.path.abspath(\"../conf/CIFAR_balance_conf.json\")\n",
    "else : \n",
    "    conf_file = os.path.abspath(\"../conf/MNIST_balance_conf.json\")\n",
    "with open(conf_file, \"r\") as f:\n",
    "    conf_dict = json.load(f) \n",
    "    \n",
    "    #n_classes = conf_dict[\"n_classes\"]\n",
    "    model_config = conf_dict[\"models\"]\n",
    "    pre_train_params = conf_dict[\"pre_train_params\"]\n",
    "    model_saved_dir = conf_dict[\"model_saved_dir\"]\n",
    "    model_saved_names = conf_dict[\"model_saved_names\"]\n",
    "    is_early_stopping = conf_dict[\"early_stopping\"]\n",
    "    public_classes = conf_dict[\"public_classes\"]\n",
    "    private_classes = conf_dict[\"private_classes\"]\n",
    "    n_classes = len(public_classes)\n",
    "    \n",
    "    \n",
    "    N_parties = conf_dict[\"N_parties\"]\n",
    "    N_samples_per_class = conf_dict[\"N_samples_per_class\"]\n",
    "    \n",
    "    N_rounds = conf_dict[\"N_rounds\"]\n",
    "    N_alignment = conf_dict[\"N_alignment\"]\n",
    "    N_private_training_round = conf_dict[\"N_private_training_round\"]\n",
    "    private_training_batchsize = conf_dict[\"private_training_batchsize\"]\n",
    "    N_logits_matching_round = conf_dict[\"N_logits_matching_round\"]\n",
    "    logits_matching_batchsize = conf_dict[\"logits_matching_batchsize\"]\n",
    "    aug = conf_dict[\"aug\"]\n",
    "    compress = conf_dict[\"compress\"]\n",
    "    select = conf_dict[\"select\"]\n",
    "    algorithm = conf_dict[\"algorithm\"]\n",
    "    \n",
    "    dataset_dir = conf_dict[\"dataset_dir\"]\n",
    "    result_save_dir = conf_dict[\"result_save_dir\"]\n",
    "    \n",
    "    if algorithm == 'fedavg':\n",
    "        result_save_dir = result_save_dir + \"_fedavg\"\n",
    "    \n",
    "    elif algorithm == 'fedmd':\n",
    "        result_save_dir = result_save_dir + \"_fedmd\"\n",
    "\n",
    "        if aug : \n",
    "            print(\"adding aug\")\n",
    "            result_save_dir = result_save_dir + \"_aug\"\n",
    "        if compress:\n",
    "            print(\"adding compress\")\n",
    "            result_save_dir = result_save_dir + \"_compress\"\n",
    "        if select:\n",
    "            print(\"adding select\")\n",
    "            result_save_dir = result_save_dir + \"_select\"\n",
    "        print(\"Using {} alignment\".format(N_alignment))\n",
    "        result_save_dir = result_save_dir + \"_exp{}\".format(N_alignment)\n",
    "\n",
    "    if os.path.exists(result_save_dir):\n",
    "        result_save_dir = result_save_dir + \"_{}\".format(np.random.randint(1000))\n",
    "    os.makedirs(result_save_dir)\n",
    "\n",
    "\n",
    "del conf_dict, conf_file\n"
   ]
  },
  {
   "cell_type": "markdown",
   "metadata": {},
   "source": [
    "## Function"
   ]
  },
  {
   "cell_type": "code",
   "execution_count": 3,
   "metadata": {},
   "outputs": [],
   "source": [
    "\n",
    "from PIL import Image\n",
    "\n",
    "def all_digit(x) : \n",
    "    return all([c.isdigit() for c in x])\n",
    "\n",
    "# resize image to shape \n",
    "def resize_this_image(x, shape, denormalize = True, normalize_back = True) : \n",
    "    if denormalize : \n",
    "        x = (x+0.5) * 255.0\n",
    "        x = x.astype(np.uint8)\n",
    "    y = np.array(Image.fromarray(x).resize(shape), dtype = np.float32) \n",
    "    if normalize_back : \n",
    "        y = y / 255.0 - 0.5\n",
    "    return y\n",
    "\n",
    "\n",
    "def resize_dataset(x, new_shape) : \n",
    "    num_images = len(x) \n",
    "    new_x = []\n",
    "    for image in range(num_images) : \n",
    "        new_x.append(resize_this_image(x[image, ...], new_shape))\n",
    "    new_x = np.array(new_x)\n",
    "    return new_x\n"
   ]
  },
  {
   "cell_type": "markdown",
   "metadata": {},
   "source": [
    "## Prepare dataset"
   ]
  },
  {
   "cell_type": "code",
   "execution_count": 4,
   "metadata": {},
   "outputs": [],
   "source": [
    "\n",
    "\n",
    "\n",
    "\n",
    "dataset = private_dataset_name\n",
    "data_dir = \"../data\"\n",
    "clients_data, alignment_data, test_data = load_ready_data(data_dir, dataset)\n",
    "\n",
    "\n",
    "n_public_classes = len(alignment_data)\n",
    "n_private_classes = len(test_data)  "
   ]
  },
  {
   "cell_type": "code",
   "execution_count": 5,
   "metadata": {},
   "outputs": [
    {
     "data": {
      "text/plain": [
       "50"
      ]
     },
     "execution_count": 5,
     "metadata": {},
     "output_type": "execute_result"
    }
   ],
   "source": [
    "len(clients_data[0][0])"
   ]
  },
  {
   "cell_type": "code",
   "execution_count": 6,
   "metadata": {},
   "outputs": [
    {
     "name": "stdout",
     "output_type": "stream",
     "text": [
      "Metal device set to: Apple M1\n",
      "\n",
      "systemMemory: 8.00 GB\n",
      "maxCacheSize: 2.67 GB\n",
      "\n"
     ]
    },
    {
     "name": "stderr",
     "output_type": "stream",
     "text": [
      "2023-11-20 13:38:50.424749: I tensorflow/core/common_runtime/pluggable_device/pluggable_device_factory.cc:306] Could not identify NUMA node of platform GPU ID 0, defaulting to 0. Your kernel may not have been built with NUMA support.\n",
      "2023-11-20 13:38:50.425116: I tensorflow/core/common_runtime/pluggable_device/pluggable_device_factory.cc:272] Created TensorFlow device (/job:localhost/replica:0/task:0/device:GPU:0 with 0 MB memory) -> physical PluggableDevice (device: 0, name: METAL, pci bus id: <undefined>)\n",
      "/Users/gadmohamed/miniforge3/envs/fl/lib/python3.9/site-packages/keras/optimizers/optimizer_v2/adam.py:114: UserWarning: The `lr` argument is deprecated, use `learning_rate` instead.\n",
      "  super().__init__(name, **kwargs)\n"
     ]
    },
    {
     "data": {
      "text/plain": [
       "10"
      ]
     },
     "execution_count": 6,
     "metadata": {},
     "output_type": "execute_result"
    }
   ],
   "source": [
    "algorithm = 'fedavg'\n",
    "input_shape = (32, 32, 3) \n",
    "parties = [] \n",
    "\n",
    "for i in range(N_parties) : \n",
    "    model_idx = i if algorithm != 'fedavg' else 0\n",
    "    item = model_config[model_idx] \n",
    "    model_name = item['model_type']\n",
    "    model_params = item['params']\n",
    "    model = CANDIDATE_MODELS[model_name](n_classes = n_private_classes,\n",
    "                                         input_shape = input_shape,\n",
    "                                         **model_params)\n",
    "    parties.append(model) \n",
    "\n",
    "\n",
    "len(parties) "
   ]
  },
  {
   "cell_type": "code",
   "execution_count": 7,
   "metadata": {},
   "outputs": [
    {
     "name": "stdout",
     "output_type": "stream",
     "text": [
      "model  0\n",
      "model  1\n",
      "model  2\n",
      "model  3\n",
      "model  4\n",
      "model  5\n",
      "model  6\n",
      "model  7\n",
      "model  8\n",
      "model  9\n",
      "round  0\n"
     ]
    },
    {
     "name": "stderr",
     "output_type": "stream",
     "text": [
      "2023-11-20 13:38:51.829269: W tensorflow/core/platform/profile_utils/cpu_utils.cc:128] Failed to get CPU frequency: 0 Hz\n",
      "2023-11-20 13:38:52.171380: I tensorflow/core/grappler/optimizers/custom_graph_optimizer_registry.cc:114] Plugin optimizer for device_type GPU is enabled.\n",
      "2023-11-20 13:38:53.849576: I tensorflow/core/grappler/optimizers/custom_graph_optimizer_registry.cc:114] Plugin optimizer for device_type GPU is enabled.\n",
      "2023-11-20 13:38:54.417976: I tensorflow/core/grappler/optimizers/custom_graph_optimizer_registry.cc:114] Plugin optimizer for device_type GPU is enabled.\n",
      "2023-11-20 13:38:55.007118: I tensorflow/core/grappler/optimizers/custom_graph_optimizer_registry.cc:114] Plugin optimizer for device_type GPU is enabled.\n",
      "2023-11-20 13:38:55.580916: I tensorflow/core/grappler/optimizers/custom_graph_optimizer_registry.cc:114] Plugin optimizer for device_type GPU is enabled.\n"
     ]
    },
    {
     "name": "stdout",
     "output_type": "stream",
     "text": [
      "WARNING:tensorflow:5 out of the last 9 calls to <function Model.make_train_function.<locals>.train_function at 0x313df1820> triggered tf.function retracing. Tracing is expensive and the excessive number of tracings could be due to (1) creating @tf.function repeatedly in a loop, (2) passing tensors with different shapes, (3) passing Python objects instead of tensors. For (1), please define your @tf.function outside of the loop. For (2), @tf.function has reduce_retracing=True option that can avoid unnecessary retracing. For (3), please refer to https://www.tensorflow.org/guide/function#controlling_retracing and https://www.tensorflow.org/api_docs/python/tf/function for  more details.\n"
     ]
    },
    {
     "name": "stderr",
     "output_type": "stream",
     "text": [
      "2023-11-20 13:38:56.272983: I tensorflow/core/grappler/optimizers/custom_graph_optimizer_registry.cc:114] Plugin optimizer for device_type GPU is enabled.\n"
     ]
    },
    {
     "name": "stdout",
     "output_type": "stream",
     "text": [
      "WARNING:tensorflow:6 out of the last 11 calls to <function Model.make_train_function.<locals>.train_function at 0x3166c7040> triggered tf.function retracing. Tracing is expensive and the excessive number of tracings could be due to (1) creating @tf.function repeatedly in a loop, (2) passing tensors with different shapes, (3) passing Python objects instead of tensors. For (1), please define your @tf.function outside of the loop. For (2), @tf.function has reduce_retracing=True option that can avoid unnecessary retracing. For (3), please refer to https://www.tensorflow.org/guide/function#controlling_retracing and https://www.tensorflow.org/api_docs/python/tf/function for  more details.\n"
     ]
    },
    {
     "name": "stderr",
     "output_type": "stream",
     "text": [
      "2023-11-20 13:38:56.854509: I tensorflow/core/grappler/optimizers/custom_graph_optimizer_registry.cc:114] Plugin optimizer for device_type GPU is enabled.\n",
      "2023-11-20 13:38:57.432471: I tensorflow/core/grappler/optimizers/custom_graph_optimizer_registry.cc:114] Plugin optimizer for device_type GPU is enabled.\n",
      "2023-11-20 13:38:58.025667: I tensorflow/core/grappler/optimizers/custom_graph_optimizer_registry.cc:114] Plugin optimizer for device_type GPU is enabled.\n",
      "2023-11-20 13:38:58.601606: I tensorflow/core/grappler/optimizers/custom_graph_optimizer_registry.cc:114] Plugin optimizer for device_type GPU is enabled.\n",
      "2023-11-20 13:38:59.210813: I tensorflow/core/grappler/optimizers/custom_graph_optimizer_registry.cc:114] Plugin optimizer for device_type GPU is enabled.\n"
     ]
    },
    {
     "name": "stdout",
     "output_type": "stream",
     "text": [
      "model 0 accuracy: 0.155\n"
     ]
    },
    {
     "name": "stderr",
     "output_type": "stream",
     "text": [
      "2023-11-20 13:39:02.836515: I tensorflow/core/grappler/optimizers/custom_graph_optimizer_registry.cc:114] Plugin optimizer for device_type GPU is enabled.\n"
     ]
    },
    {
     "name": "stdout",
     "output_type": "stream",
     "text": [
      "model 1 accuracy: 0.1523\n"
     ]
    },
    {
     "name": "stderr",
     "output_type": "stream",
     "text": [
      "2023-11-20 13:39:06.370841: I tensorflow/core/grappler/optimizers/custom_graph_optimizer_registry.cc:114] Plugin optimizer for device_type GPU is enabled.\n"
     ]
    },
    {
     "name": "stdout",
     "output_type": "stream",
     "text": [
      "model 2 accuracy: 0.1648\n"
     ]
    },
    {
     "name": "stderr",
     "output_type": "stream",
     "text": [
      "2023-11-20 13:39:10.054815: I tensorflow/core/grappler/optimizers/custom_graph_optimizer_registry.cc:114] Plugin optimizer for device_type GPU is enabled.\n"
     ]
    },
    {
     "name": "stdout",
     "output_type": "stream",
     "text": [
      "model 3 accuracy: 0.1608\n"
     ]
    },
    {
     "name": "stderr",
     "output_type": "stream",
     "text": [
      "2023-11-20 13:39:13.632675: I tensorflow/core/grappler/optimizers/custom_graph_optimizer_registry.cc:114] Plugin optimizer for device_type GPU is enabled.\n"
     ]
    },
    {
     "name": "stdout",
     "output_type": "stream",
     "text": [
      "model 4 accuracy: 0.1141\n"
     ]
    },
    {
     "name": "stderr",
     "output_type": "stream",
     "text": [
      "2023-11-20 13:39:17.176831: I tensorflow/core/grappler/optimizers/custom_graph_optimizer_registry.cc:114] Plugin optimizer for device_type GPU is enabled.\n"
     ]
    },
    {
     "name": "stdout",
     "output_type": "stream",
     "text": [
      "model 5 accuracy: 0.1709\n"
     ]
    },
    {
     "name": "stderr",
     "output_type": "stream",
     "text": [
      "2023-11-20 13:39:20.898933: I tensorflow/core/grappler/optimizers/custom_graph_optimizer_registry.cc:114] Plugin optimizer for device_type GPU is enabled.\n"
     ]
    },
    {
     "name": "stdout",
     "output_type": "stream",
     "text": [
      "model 6 accuracy: 0.1649\n"
     ]
    },
    {
     "name": "stderr",
     "output_type": "stream",
     "text": [
      "2023-11-20 13:39:24.512003: I tensorflow/core/grappler/optimizers/custom_graph_optimizer_registry.cc:114] Plugin optimizer for device_type GPU is enabled.\n"
     ]
    },
    {
     "name": "stdout",
     "output_type": "stream",
     "text": [
      "model 7 accuracy: 0.1517\n"
     ]
    },
    {
     "name": "stderr",
     "output_type": "stream",
     "text": [
      "2023-11-20 13:39:28.045229: I tensorflow/core/grappler/optimizers/custom_graph_optimizer_registry.cc:114] Plugin optimizer for device_type GPU is enabled.\n"
     ]
    },
    {
     "name": "stdout",
     "output_type": "stream",
     "text": [
      "model 8 accuracy: 0.1585\n"
     ]
    },
    {
     "name": "stderr",
     "output_type": "stream",
     "text": [
      "2023-11-20 13:39:31.560927: I tensorflow/core/grappler/optimizers/custom_graph_optimizer_registry.cc:114] Plugin optimizer for device_type GPU is enabled.\n"
     ]
    },
    {
     "name": "stdout",
     "output_type": "stream",
     "text": [
      "model 9 accuracy: 0.1271\n",
      "round  1\n",
      "model 0 accuracy: 0.1863\n",
      "model 1 accuracy: 0.1818\n",
      "model 2 accuracy: 0.2043\n",
      "model 3 accuracy: 0.1957\n",
      "model 4 accuracy: 0.1432\n",
      "model 5 accuracy: 0.1966\n",
      "model 6 accuracy: 0.1988\n",
      "model 7 accuracy: 0.1841\n",
      "model 8 accuracy: 0.1818\n",
      "model 9 accuracy: 0.1216\n",
      "round  2\n",
      "model 0 accuracy: 0.1956\n",
      "model 1 accuracy: 0.1904\n",
      "model 2 accuracy: 0.2389\n",
      "model 3 accuracy: 0.2232\n",
      "model 4 accuracy: 0.1665\n",
      "model 5 accuracy: 0.2077\n",
      "model 6 accuracy: 0.2104\n",
      "model 7 accuracy: 0.196\n",
      "model 8 accuracy: 0.1813\n",
      "model 9 accuracy: 0.107\n",
      "round  3\n",
      "model 0 accuracy: 0.1901\n",
      "model 1 accuracy: 0.195\n",
      "model 2 accuracy: 0.2269\n",
      "model 3 accuracy: 0.2219\n",
      "model 4 accuracy: 0.1731\n",
      "model 5 accuracy: 0.2162\n",
      "model 6 accuracy: 0.2074\n",
      "model 7 accuracy: 0.1954\n",
      "model 8 accuracy: 0.1809\n",
      "model 9 accuracy: 0.1108\n",
      "round  4\n",
      "model 0 accuracy: 0.1807\n",
      "model 1 accuracy: 0.1914\n",
      "model 2 accuracy: 0.1953\n",
      "model 3 accuracy: 0.1952\n",
      "model 4 accuracy: 0.1728\n",
      "model 5 accuracy: 0.2145\n",
      "model 6 accuracy: 0.1957\n",
      "model 7 accuracy: 0.1821\n",
      "model 8 accuracy: 0.1732\n",
      "model 9 accuracy: 0.1013\n",
      "round  5\n",
      "model 0 accuracy: 0.1648\n",
      "model 1 accuracy: 0.1916\n",
      "model 2 accuracy: 0.1764\n",
      "model 3 accuracy: 0.1707\n",
      "model 4 accuracy: 0.1647\n",
      "model 5 accuracy: 0.2007\n",
      "model 6 accuracy: 0.1699\n",
      "model 7 accuracy: 0.1743\n",
      "model 8 accuracy: 0.1612\n",
      "model 9 accuracy: 0.0999\n",
      "round  6\n",
      "model 0 accuracy: 0.1462\n",
      "model 1 accuracy: 0.186\n",
      "model 2 accuracy: 0.1577\n",
      "model 3 accuracy: 0.1598\n",
      "model 4 accuracy: 0.1541\n",
      "model 5 accuracy: 0.1874\n",
      "model 6 accuracy: 0.1506\n",
      "model 7 accuracy: 0.1634\n",
      "model 8 accuracy: 0.1441\n",
      "model 9 accuracy: 0.1\n",
      "round  7\n",
      "model 0 accuracy: 0.1324\n",
      "model 1 accuracy: 0.1813\n",
      "model 2 accuracy: 0.1475\n",
      "model 3 accuracy: 0.1554\n",
      "model 4 accuracy: 0.1436\n",
      "model 5 accuracy: 0.1784\n",
      "model 6 accuracy: 0.1386\n",
      "model 7 accuracy: 0.1571\n",
      "model 8 accuracy: 0.1321\n",
      "model 9 accuracy: 0.1\n",
      "round  8\n",
      "model 0 accuracy: 0.1203\n",
      "model 1 accuracy: 0.1722\n",
      "model 2 accuracy: 0.1381\n",
      "model 3 accuracy: 0.1516\n",
      "model 4 accuracy: 0.1347\n",
      "model 5 accuracy: 0.1701\n",
      "model 6 accuracy: 0.128\n",
      "model 7 accuracy: 0.1535\n",
      "model 8 accuracy: 0.1202\n",
      "model 9 accuracy: 0.1\n",
      "round  9\n",
      "model 0 accuracy: 0.1136\n",
      "model 1 accuracy: 0.1612\n",
      "model 2 accuracy: 0.1302\n",
      "model 3 accuracy: 0.1508\n",
      "model 4 accuracy: 0.1259\n",
      "model 5 accuracy: 0.1649\n",
      "model 6 accuracy: 0.1222\n",
      "model 7 accuracy: 0.151\n",
      "model 8 accuracy: 0.1127\n",
      "model 9 accuracy: 0.1\n",
      "round  10\n",
      "model 0 accuracy: 0.1071\n",
      "model 1 accuracy: 0.1501\n",
      "model 2 accuracy: 0.1227\n",
      "model 3 accuracy: 0.1506\n",
      "model 4 accuracy: 0.1232\n",
      "model 5 accuracy: 0.1588\n",
      "model 6 accuracy: 0.119\n",
      "model 7 accuracy: 0.1478\n",
      "model 8 accuracy: 0.1076\n",
      "model 9 accuracy: 0.1\n",
      "round  11\n",
      "model 0 accuracy: 0.1039\n",
      "model 1 accuracy: 0.1398\n",
      "model 2 accuracy: 0.1156\n",
      "model 3 accuracy: 0.1527\n",
      "model 4 accuracy: 0.118\n",
      "model 5 accuracy: 0.1565\n",
      "model 6 accuracy: 0.1152\n",
      "model 7 accuracy: 0.1477\n",
      "model 8 accuracy: 0.1043\n",
      "model 9 accuracy: 0.1\n",
      "round  12\n",
      "model 0 accuracy: 0.1019\n",
      "model 1 accuracy: 0.1327\n",
      "model 2 accuracy: 0.1098\n",
      "model 3 accuracy: 0.1515\n",
      "model 4 accuracy: 0.1151\n",
      "model 5 accuracy: 0.1549\n",
      "model 6 accuracy: 0.1139\n",
      "model 7 accuracy: 0.1472\n",
      "model 8 accuracy: 0.1024\n",
      "model 9 accuracy: 0.1\n",
      "round  13\n",
      "model 0 accuracy: 0.101\n",
      "model 1 accuracy: 0.1272\n",
      "model 2 accuracy: 0.1073\n",
      "model 3 accuracy: 0.1492\n",
      "model 4 accuracy: 0.113\n",
      "model 5 accuracy: 0.1531\n",
      "model 6 accuracy: 0.1135\n",
      "model 7 accuracy: 0.1462\n",
      "model 8 accuracy: 0.1014\n",
      "model 9 accuracy: 0.1\n",
      "round  14\n",
      "model 0 accuracy: 0.1005\n",
      "model 1 accuracy: 0.1214\n",
      "model 2 accuracy: 0.1037\n",
      "model 3 accuracy: 0.1486\n",
      "model 4 accuracy: 0.1118\n",
      "model 5 accuracy: 0.1504\n",
      "model 6 accuracy: 0.1133\n",
      "model 7 accuracy: 0.1461\n",
      "model 8 accuracy: 0.101\n",
      "model 9 accuracy: 0.1\n",
      "round  15\n",
      "model 0 accuracy: 0.1003\n",
      "model 1 accuracy: 0.1168\n",
      "model 2 accuracy: 0.101\n",
      "model 3 accuracy: 0.1457\n",
      "model 4 accuracy: 0.1097\n",
      "model 5 accuracy: 0.148\n",
      "model 6 accuracy: 0.1123\n",
      "model 7 accuracy: 0.1462\n",
      "model 8 accuracy: 0.1005\n",
      "model 9 accuracy: 0.1\n",
      "round  16\n",
      "model 0 accuracy: 0.1002\n",
      "model 1 accuracy: 0.1134\n",
      "model 2 accuracy: 0.1004\n",
      "model 3 accuracy: 0.1428\n",
      "model 4 accuracy: 0.1083\n",
      "model 5 accuracy: 0.1454\n",
      "model 6 accuracy: 0.1129\n",
      "model 7 accuracy: 0.145\n",
      "model 8 accuracy: 0.1003\n",
      "model 9 accuracy: 0.1\n",
      "round  17\n",
      "model 0 accuracy: 0.1001\n",
      "model 1 accuracy: 0.1109\n",
      "model 2 accuracy: 0.1004\n",
      "model 3 accuracy: 0.1393\n",
      "model 4 accuracy: 0.1076\n",
      "model 5 accuracy: 0.1433\n",
      "model 6 accuracy: 0.1134\n",
      "model 7 accuracy: 0.145\n",
      "model 8 accuracy: 0.1002\n",
      "model 9 accuracy: 0.1\n",
      "round  18\n",
      "model 0 accuracy: 0.1001\n",
      "model 1 accuracy: 0.1085\n",
      "model 2 accuracy: 0.1003\n",
      "model 3 accuracy: 0.1372\n",
      "model 4 accuracy: 0.1068\n",
      "model 5 accuracy: 0.1409\n",
      "model 6 accuracy: 0.1132\n",
      "model 7 accuracy: 0.143\n",
      "model 8 accuracy: 0.1002\n",
      "model 9 accuracy: 0.1\n",
      "round  19\n",
      "model 0 accuracy: 0.1\n",
      "model 1 accuracy: 0.1072\n",
      "model 2 accuracy: 0.1005\n",
      "model 3 accuracy: 0.1337\n",
      "model 4 accuracy: 0.1057\n",
      "model 5 accuracy: 0.1398\n",
      "model 6 accuracy: 0.1133\n",
      "model 7 accuracy: 0.141\n",
      "model 8 accuracy: 0.1001\n",
      "model 9 accuracy: 0.1\n"
     ]
    }
   ],
   "source": [
    "algorithms = {'fedavg': FedAvg, 'fedmd': FedMD}\n",
    "\n",
    "\n",
    "N_rounds = 20\n",
    "\n",
    "if algorithm == 'fedavg':\n",
    "        alg = algorithms[algorithm](parties, clients_data, test_data, N_rounds = N_rounds,\n",
    "                                    N_private_training_round = N_private_training_round,\n",
    "                                    private_training_batchsize = private_training_batchsize)\n",
    "elif algorithm == 'fedmd':\n",
    "    alg = algorithms[algorithm](parties, \n",
    "                original_public_dataset = alignment_data,\n",
    "                private_data = clients_data, \n",
    "                private_test_data = test_data,\n",
    "                N_rounds = N_rounds,N_alignment = N_alignment,\n",
    "                N_logits_matching_round = N_logits_matching_round,\n",
    "                logits_matching_batchsize = logits_matching_batchsize, \n",
    "                 N_private_training_round = N_private_training_round, \n",
    "                private_training_batchsize = private_training_batchsize,\n",
    "                aug = aug, compress = compress, select = select)\n",
    "\n",
    "collaboration_performance = alg.collaborative_training()\n",
    "\n",
    "\n"
   ]
  },
  {
   "cell_type": "code",
   "execution_count": null,
   "metadata": {},
   "outputs": [],
   "source": [
    "with open(os.path.join(result_save_dir, 'col_performance.pkl'), 'wb') as f:\n",
    "    pickle.dump(collaboration_performance, f, protocol=pickle.HIGHEST_PROTOCOL)\n",
    "\n",
    "\n",
    "models_save_dir = join(result_save_dir, 'models')\n",
    "os.makedirs(models_save_dir)\n",
    "\n",
    "loss_fnn = tf.keras.losses.SparseCategoricalCrossentropy(reduction = 'none')\n",
    "for i, d in enumerate(alg.collaborative_parties):\n",
    "    model = d['model_classifier']\n",
    "    train_preds, train_losses = model_stats(model, alg.tf_private_data[i], loss_fnn)\n",
    "    test_preds, test_losses = model_stats(model, alg.tf_private_test_data, loss_fnn)\n",
    "\n",
    "    model.save(os.path.join(models_save_dir, 'model_{}.h5').format(i))\n",
    "    np.save(os.path.join(models_save_dir, 'train_preds_{}.npy').format(i), train_preds)\n",
    "    np.save(os.path.join(models_save_dir, 'train_losses_{}.npy').format(i), train_losses)\n",
    "    np.save(os.path.join(models_save_dir, 'test_preds_{}.npy').format(i), test_preds)\n",
    "    np.save(os.path.join(models_save_dir, 'test_losses_{}.npy').format(i), test_losses)\n"
   ]
  },
  {
   "cell_type": "markdown",
   "metadata": {},
   "source": []
  }
 ],
 "metadata": {
  "kernelspec": {
   "display_name": "Python 3",
   "language": "python",
   "name": "python3"
  },
  "language_info": {
   "codemirror_mode": {
    "name": "ipython",
    "version": 3
   },
   "file_extension": ".py",
   "mimetype": "text/x-python",
   "name": "python",
   "nbconvert_exporter": "python",
   "pygments_lexer": "ipython3",
   "version": "3.9.13"
  },
  "orig_nbformat": 4
 },
 "nbformat": 4,
 "nbformat_minor": 2
}
